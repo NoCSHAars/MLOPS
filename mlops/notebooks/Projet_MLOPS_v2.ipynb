{
  "cells": [
    {
      "cell_type": "code",
      "execution_count": null,
      "metadata": {
        "colab": {
          "base_uri": "https://localhost:8080/",
          "height": 90
        },
        "id": "42ENoaAOPirm",
        "outputId": "2bd5d11d-46d5-4b18-b633-d0e4095d6f84"
      },
      "outputs": [
        {
          "output_type": "display_data",
          "data": {
            "text/plain": [
              "<IPython.core.display.HTML object>"
            ],
            "text/html": [
              "\n",
              "     <input type=\"file\" id=\"files-467bcb3a-c037-4f61-8520-5b1aabbcdb12\" name=\"files[]\" multiple disabled\n",
              "        style=\"border:none\" />\n",
              "     <output id=\"result-467bcb3a-c037-4f61-8520-5b1aabbcdb12\">\n",
              "      Upload widget is only available when the cell has been executed in the\n",
              "      current browser session. Please rerun this cell to enable.\n",
              "      </output>\n",
              "      <script>// Copyright 2017 Google LLC\n",
              "//\n",
              "// Licensed under the Apache License, Version 2.0 (the \"License\");\n",
              "// you may not use this file except in compliance with the License.\n",
              "// You may obtain a copy of the License at\n",
              "//\n",
              "//      http://www.apache.org/licenses/LICENSE-2.0\n",
              "//\n",
              "// Unless required by applicable law or agreed to in writing, software\n",
              "// distributed under the License is distributed on an \"AS IS\" BASIS,\n",
              "// WITHOUT WARRANTIES OR CONDITIONS OF ANY KIND, either express or implied.\n",
              "// See the License for the specific language governing permissions and\n",
              "// limitations under the License.\n",
              "\n",
              "/**\n",
              " * @fileoverview Helpers for google.colab Python module.\n",
              " */\n",
              "(function(scope) {\n",
              "function span(text, styleAttributes = {}) {\n",
              "  const element = document.createElement('span');\n",
              "  element.textContent = text;\n",
              "  for (const key of Object.keys(styleAttributes)) {\n",
              "    element.style[key] = styleAttributes[key];\n",
              "  }\n",
              "  return element;\n",
              "}\n",
              "\n",
              "// Max number of bytes which will be uploaded at a time.\n",
              "const MAX_PAYLOAD_SIZE = 100 * 1024;\n",
              "\n",
              "function _uploadFiles(inputId, outputId) {\n",
              "  const steps = uploadFilesStep(inputId, outputId);\n",
              "  const outputElement = document.getElementById(outputId);\n",
              "  // Cache steps on the outputElement to make it available for the next call\n",
              "  // to uploadFilesContinue from Python.\n",
              "  outputElement.steps = steps;\n",
              "\n",
              "  return _uploadFilesContinue(outputId);\n",
              "}\n",
              "\n",
              "// This is roughly an async generator (not supported in the browser yet),\n",
              "// where there are multiple asynchronous steps and the Python side is going\n",
              "// to poll for completion of each step.\n",
              "// This uses a Promise to block the python side on completion of each step,\n",
              "// then passes the result of the previous step as the input to the next step.\n",
              "function _uploadFilesContinue(outputId) {\n",
              "  const outputElement = document.getElementById(outputId);\n",
              "  const steps = outputElement.steps;\n",
              "\n",
              "  const next = steps.next(outputElement.lastPromiseValue);\n",
              "  return Promise.resolve(next.value.promise).then((value) => {\n",
              "    // Cache the last promise value to make it available to the next\n",
              "    // step of the generator.\n",
              "    outputElement.lastPromiseValue = value;\n",
              "    return next.value.response;\n",
              "  });\n",
              "}\n",
              "\n",
              "/**\n",
              " * Generator function which is called between each async step of the upload\n",
              " * process.\n",
              " * @param {string} inputId Element ID of the input file picker element.\n",
              " * @param {string} outputId Element ID of the output display.\n",
              " * @return {!Iterable<!Object>} Iterable of next steps.\n",
              " */\n",
              "function* uploadFilesStep(inputId, outputId) {\n",
              "  const inputElement = document.getElementById(inputId);\n",
              "  inputElement.disabled = false;\n",
              "\n",
              "  const outputElement = document.getElementById(outputId);\n",
              "  outputElement.innerHTML = '';\n",
              "\n",
              "  const pickedPromise = new Promise((resolve) => {\n",
              "    inputElement.addEventListener('change', (e) => {\n",
              "      resolve(e.target.files);\n",
              "    });\n",
              "  });\n",
              "\n",
              "  const cancel = document.createElement('button');\n",
              "  inputElement.parentElement.appendChild(cancel);\n",
              "  cancel.textContent = 'Cancel upload';\n",
              "  const cancelPromise = new Promise((resolve) => {\n",
              "    cancel.onclick = () => {\n",
              "      resolve(null);\n",
              "    };\n",
              "  });\n",
              "\n",
              "  // Wait for the user to pick the files.\n",
              "  const files = yield {\n",
              "    promise: Promise.race([pickedPromise, cancelPromise]),\n",
              "    response: {\n",
              "      action: 'starting',\n",
              "    }\n",
              "  };\n",
              "\n",
              "  cancel.remove();\n",
              "\n",
              "  // Disable the input element since further picks are not allowed.\n",
              "  inputElement.disabled = true;\n",
              "\n",
              "  if (!files) {\n",
              "    return {\n",
              "      response: {\n",
              "        action: 'complete',\n",
              "      }\n",
              "    };\n",
              "  }\n",
              "\n",
              "  for (const file of files) {\n",
              "    const li = document.createElement('li');\n",
              "    li.append(span(file.name, {fontWeight: 'bold'}));\n",
              "    li.append(span(\n",
              "        `(${file.type || 'n/a'}) - ${file.size} bytes, ` +\n",
              "        `last modified: ${\n",
              "            file.lastModifiedDate ? file.lastModifiedDate.toLocaleDateString() :\n",
              "                                    'n/a'} - `));\n",
              "    const percent = span('0% done');\n",
              "    li.appendChild(percent);\n",
              "\n",
              "    outputElement.appendChild(li);\n",
              "\n",
              "    const fileDataPromise = new Promise((resolve) => {\n",
              "      const reader = new FileReader();\n",
              "      reader.onload = (e) => {\n",
              "        resolve(e.target.result);\n",
              "      };\n",
              "      reader.readAsArrayBuffer(file);\n",
              "    });\n",
              "    // Wait for the data to be ready.\n",
              "    let fileData = yield {\n",
              "      promise: fileDataPromise,\n",
              "      response: {\n",
              "        action: 'continue',\n",
              "      }\n",
              "    };\n",
              "\n",
              "    // Use a chunked sending to avoid message size limits. See b/62115660.\n",
              "    let position = 0;\n",
              "    do {\n",
              "      const length = Math.min(fileData.byteLength - position, MAX_PAYLOAD_SIZE);\n",
              "      const chunk = new Uint8Array(fileData, position, length);\n",
              "      position += length;\n",
              "\n",
              "      const base64 = btoa(String.fromCharCode.apply(null, chunk));\n",
              "      yield {\n",
              "        response: {\n",
              "          action: 'append',\n",
              "          file: file.name,\n",
              "          data: base64,\n",
              "        },\n",
              "      };\n",
              "\n",
              "      let percentDone = fileData.byteLength === 0 ?\n",
              "          100 :\n",
              "          Math.round((position / fileData.byteLength) * 100);\n",
              "      percent.textContent = `${percentDone}% done`;\n",
              "\n",
              "    } while (position < fileData.byteLength);\n",
              "  }\n",
              "\n",
              "  // All done.\n",
              "  yield {\n",
              "    response: {\n",
              "      action: 'complete',\n",
              "    }\n",
              "  };\n",
              "}\n",
              "\n",
              "scope.google = scope.google || {};\n",
              "scope.google.colab = scope.google.colab || {};\n",
              "scope.google.colab._files = {\n",
              "  _uploadFiles,\n",
              "  _uploadFilesContinue,\n",
              "};\n",
              "})(self);\n",
              "</script> "
            ]
          },
          "metadata": {}
        },
        {
          "output_type": "stream",
          "name": "stdout",
          "text": [
            "Saving kaggle.json to kaggle.json\n",
            "User uploaded file \"kaggle.json\" with length 62 bytes\n"
          ]
        }
      ],
      "source": [
        "from google.colab import files\n",
        "uploaded = files.upload()\n",
        "\n",
        "for fn in uploaded.keys():\n",
        "  print('User uploaded file \"{name}\" with length {length} bytes'.format(\n",
        "      name=fn, length=len(uploaded[fn])))\n",
        "\n",
        "# Then move kaggle.json into the folder where the API expects to find it.\n",
        "!mkdir -p ~/.kaggle/ && mv kaggle.json ~/.kaggle/ && chmod 600 ~/.kaggle/kaggle.json"
      ]
    },
    {
      "cell_type": "code",
      "source": [
        "!kaggle competitions download -c home-data-for-ml-course\n",
        "!unzip home-data-for-ml-course.zip"
      ],
      "metadata": {
        "colab": {
          "base_uri": "https://localhost:8080/"
        },
        "id": "LaXCcsSWRm0a",
        "outputId": "0c9f044a-3dc1-42b1-d8e0-23a17744c1cc"
      },
      "execution_count": null,
      "outputs": [
        {
          "output_type": "stream",
          "name": "stdout",
          "text": [
            "Downloading home-data-for-ml-course.zip to /content\n",
            "\r  0% 0.00/386k [00:00<?, ?B/s]\n",
            "\r100% 386k/386k [00:00<00:00, 77.4MB/s]\n",
            "Archive:  home-data-for-ml-course.zip\n",
            "  inflating: data_description.txt    \n",
            "  inflating: sample_submission.csv   \n",
            "  inflating: sample_submission.csv.gz  \n",
            "  inflating: test.csv                \n",
            "  inflating: test.csv.gz             \n",
            "  inflating: train.csv               \n",
            "  inflating: train.csv.gz            \n"
          ]
        }
      ]
    },
    {
      "cell_type": "code",
      "source": [
        "import pandas as pd\n",
        "import numpy as np\n",
        "import matplotlib.pyplot as plt\n",
        "import seaborn as sns"
      ],
      "metadata": {
        "id": "BrME4dE8R5pt"
      },
      "execution_count": null,
      "outputs": []
    },
    {
      "cell_type": "markdown",
      "metadata": {
        "id": "mX1oLTD2qI98"
      },
      "source": [
        "# PREPROCESSING des données"
      ]
    },
    {
      "cell_type": "code",
      "execution_count": null,
      "metadata": {
        "id": "oKwbd4ytoVtA"
      },
      "outputs": [],
      "source": [
        "train_data = pd.read_csv('train.csv')\n",
        "test_data = pd.read_csv('test.csv')"
      ]
    },
    {
      "cell_type": "code",
      "execution_count": null,
      "metadata": {
        "colab": {
          "base_uri": "https://localhost:8080/"
        },
        "id": "DQfQZWauob35",
        "outputId": "37574249-30d1-499b-b197-980571b26ed5"
      },
      "outputs": [
        {
          "output_type": "stream",
          "name": "stdout",
          "text": [
            "Valeus manquantes dans les colonnes:\n",
            " PoolQC          1453\n",
            "MiscFeature     1406\n",
            "Alley           1369\n",
            "Fence           1179\n",
            "MasVnrType       872\n",
            "FireplaceQu      690\n",
            "LotFrontage      259\n",
            "GarageYrBlt       81\n",
            "GarageCond        81\n",
            "GarageType        81\n",
            "GarageFinish      81\n",
            "GarageQual        81\n",
            "BsmtFinType2      38\n",
            "BsmtExposure      38\n",
            "BsmtQual          37\n",
            "BsmtCond          37\n",
            "BsmtFinType1      37\n",
            "MasVnrArea         8\n",
            "Electrical         1\n",
            "dtype: int64\n"
          ]
        }
      ],
      "source": [
        "missing_values = train_data.isnull().sum().sort_values(ascending=False)\n",
        "print(\"Valeus manquantes dans les colonnes:\\n\", missing_values[missing_values > 0])"
      ]
    },
    {
      "cell_type": "markdown",
      "metadata": {
        "id": "1-T94sqQSS4_"
      },
      "source": [
        "### On supprime les colonnes avec plus de 50% de données manquantes"
      ]
    },
    {
      "cell_type": "code",
      "execution_count": null,
      "metadata": {
        "colab": {
          "base_uri": "https://localhost:8080/"
        },
        "id": "L5RXgUbXopBn",
        "outputId": "6b1e68c0-a3f2-4345-cf44-97d672172f96"
      },
      "outputs": [
        {
          "output_type": "stream",
          "name": "stdout",
          "text": [
            "Colonnes supprimées : ['Alley', 'MasVnrType', 'PoolQC', 'Fence', 'MiscFeature']\n"
          ]
        }
      ],
      "source": [
        "threshold = 0.5\n",
        "missing_percentage = train_data.isnull().sum() / len(train_data)\n",
        "columns_to_drop = missing_percentage[missing_percentage > threshold].index\n",
        "train_data = train_data.drop(columns=columns_to_drop, axis=1)\n",
        "print(\"Colonnes supprimées :\", columns_to_drop.tolist())"
      ]
    },
    {
      "cell_type": "markdown",
      "metadata": {
        "id": "gF7QJ_w5VjrM"
      },
      "source": [
        "On traite les colonnes à valeurs numériques : On remplit les 'trous' avec les valeurs médianes"
      ]
    },
    {
      "cell_type": "code",
      "execution_count": null,
      "metadata": {
        "id": "1-8jB7Gaos6P"
      },
      "outputs": [],
      "source": [
        "numerical_cols = train_data.select_dtypes(include=['int64', 'float64']).columns\n",
        "train_data[numerical_cols] = train_data[numerical_cols].fillna(train_data[numerical_cols].median())"
      ]
    },
    {
      "cell_type": "markdown",
      "metadata": {
        "id": "QV861aypVt4j"
      },
      "source": [
        "On fait du one-hot encoding pour traiter les colonnes avec des valeurs non numériques, en créent des 'dummy' colonnes\n"
      ]
    },
    {
      "cell_type": "code",
      "execution_count": null,
      "metadata": {
        "id": "-57ZOqVipHkr"
      },
      "outputs": [],
      "source": [
        "train_data = pd.get_dummies(train_data, drop_first=True)"
      ]
    },
    {
      "cell_type": "code",
      "execution_count": null,
      "metadata": {
        "colab": {
          "base_uri": "https://localhost:8080/",
          "height": 256
        },
        "id": "J3UlMLOBTwF6",
        "outputId": "1a6a66d5-7d8b-46f1-9fb8-6c87210a4839"
      },
      "outputs": [
        {
          "output_type": "execute_result",
          "data": {
            "text/plain": [
              "   Id  MSSubClass  LotFrontage  LotArea  OverallQual  OverallCond  YearBuilt  \\\n",
              "0   1          60         65.0     8450            7            5       2003   \n",
              "1   2          20         80.0     9600            6            8       1976   \n",
              "2   3          60         68.0    11250            7            5       2001   \n",
              "3   4          70         60.0     9550            7            5       1915   \n",
              "4   5          60         84.0    14260            8            5       2000   \n",
              "\n",
              "   YearRemodAdd  MasVnrArea  BsmtFinSF1  ...  SaleType_ConLI  SaleType_ConLw  \\\n",
              "0          2003       196.0         706  ...           False           False   \n",
              "1          1976         0.0         978  ...           False           False   \n",
              "2          2002       162.0         486  ...           False           False   \n",
              "3          1970         0.0         216  ...           False           False   \n",
              "4          2000       350.0         655  ...           False           False   \n",
              "\n",
              "   SaleType_New  SaleType_Oth  SaleType_WD  SaleCondition_AdjLand  \\\n",
              "0         False         False         True                  False   \n",
              "1         False         False         True                  False   \n",
              "2         False         False         True                  False   \n",
              "3         False         False         True                  False   \n",
              "4         False         False         True                  False   \n",
              "\n",
              "   SaleCondition_Alloca  SaleCondition_Family  SaleCondition_Normal  \\\n",
              "0                 False                 False                  True   \n",
              "1                 False                 False                  True   \n",
              "2                 False                 False                  True   \n",
              "3                 False                 False                 False   \n",
              "4                 False                 False                  True   \n",
              "\n",
              "   SaleCondition_Partial  \n",
              "0                  False  \n",
              "1                  False  \n",
              "2                  False  \n",
              "3                  False  \n",
              "4                  False  \n",
              "\n",
              "[5 rows x 235 columns]"
            ],
            "text/html": [
              "\n",
              "  <div id=\"df-2dbc1cbe-dde8-496c-bfae-9bfc0c4c9ce6\" class=\"colab-df-container\">\n",
              "    <div>\n",
              "<style scoped>\n",
              "    .dataframe tbody tr th:only-of-type {\n",
              "        vertical-align: middle;\n",
              "    }\n",
              "\n",
              "    .dataframe tbody tr th {\n",
              "        vertical-align: top;\n",
              "    }\n",
              "\n",
              "    .dataframe thead th {\n",
              "        text-align: right;\n",
              "    }\n",
              "</style>\n",
              "<table border=\"1\" class=\"dataframe\">\n",
              "  <thead>\n",
              "    <tr style=\"text-align: right;\">\n",
              "      <th></th>\n",
              "      <th>Id</th>\n",
              "      <th>MSSubClass</th>\n",
              "      <th>LotFrontage</th>\n",
              "      <th>LotArea</th>\n",
              "      <th>OverallQual</th>\n",
              "      <th>OverallCond</th>\n",
              "      <th>YearBuilt</th>\n",
              "      <th>YearRemodAdd</th>\n",
              "      <th>MasVnrArea</th>\n",
              "      <th>BsmtFinSF1</th>\n",
              "      <th>...</th>\n",
              "      <th>SaleType_ConLI</th>\n",
              "      <th>SaleType_ConLw</th>\n",
              "      <th>SaleType_New</th>\n",
              "      <th>SaleType_Oth</th>\n",
              "      <th>SaleType_WD</th>\n",
              "      <th>SaleCondition_AdjLand</th>\n",
              "      <th>SaleCondition_Alloca</th>\n",
              "      <th>SaleCondition_Family</th>\n",
              "      <th>SaleCondition_Normal</th>\n",
              "      <th>SaleCondition_Partial</th>\n",
              "    </tr>\n",
              "  </thead>\n",
              "  <tbody>\n",
              "    <tr>\n",
              "      <th>0</th>\n",
              "      <td>1</td>\n",
              "      <td>60</td>\n",
              "      <td>65.0</td>\n",
              "      <td>8450</td>\n",
              "      <td>7</td>\n",
              "      <td>5</td>\n",
              "      <td>2003</td>\n",
              "      <td>2003</td>\n",
              "      <td>196.0</td>\n",
              "      <td>706</td>\n",
              "      <td>...</td>\n",
              "      <td>False</td>\n",
              "      <td>False</td>\n",
              "      <td>False</td>\n",
              "      <td>False</td>\n",
              "      <td>True</td>\n",
              "      <td>False</td>\n",
              "      <td>False</td>\n",
              "      <td>False</td>\n",
              "      <td>True</td>\n",
              "      <td>False</td>\n",
              "    </tr>\n",
              "    <tr>\n",
              "      <th>1</th>\n",
              "      <td>2</td>\n",
              "      <td>20</td>\n",
              "      <td>80.0</td>\n",
              "      <td>9600</td>\n",
              "      <td>6</td>\n",
              "      <td>8</td>\n",
              "      <td>1976</td>\n",
              "      <td>1976</td>\n",
              "      <td>0.0</td>\n",
              "      <td>978</td>\n",
              "      <td>...</td>\n",
              "      <td>False</td>\n",
              "      <td>False</td>\n",
              "      <td>False</td>\n",
              "      <td>False</td>\n",
              "      <td>True</td>\n",
              "      <td>False</td>\n",
              "      <td>False</td>\n",
              "      <td>False</td>\n",
              "      <td>True</td>\n",
              "      <td>False</td>\n",
              "    </tr>\n",
              "    <tr>\n",
              "      <th>2</th>\n",
              "      <td>3</td>\n",
              "      <td>60</td>\n",
              "      <td>68.0</td>\n",
              "      <td>11250</td>\n",
              "      <td>7</td>\n",
              "      <td>5</td>\n",
              "      <td>2001</td>\n",
              "      <td>2002</td>\n",
              "      <td>162.0</td>\n",
              "      <td>486</td>\n",
              "      <td>...</td>\n",
              "      <td>False</td>\n",
              "      <td>False</td>\n",
              "      <td>False</td>\n",
              "      <td>False</td>\n",
              "      <td>True</td>\n",
              "      <td>False</td>\n",
              "      <td>False</td>\n",
              "      <td>False</td>\n",
              "      <td>True</td>\n",
              "      <td>False</td>\n",
              "    </tr>\n",
              "    <tr>\n",
              "      <th>3</th>\n",
              "      <td>4</td>\n",
              "      <td>70</td>\n",
              "      <td>60.0</td>\n",
              "      <td>9550</td>\n",
              "      <td>7</td>\n",
              "      <td>5</td>\n",
              "      <td>1915</td>\n",
              "      <td>1970</td>\n",
              "      <td>0.0</td>\n",
              "      <td>216</td>\n",
              "      <td>...</td>\n",
              "      <td>False</td>\n",
              "      <td>False</td>\n",
              "      <td>False</td>\n",
              "      <td>False</td>\n",
              "      <td>True</td>\n",
              "      <td>False</td>\n",
              "      <td>False</td>\n",
              "      <td>False</td>\n",
              "      <td>False</td>\n",
              "      <td>False</td>\n",
              "    </tr>\n",
              "    <tr>\n",
              "      <th>4</th>\n",
              "      <td>5</td>\n",
              "      <td>60</td>\n",
              "      <td>84.0</td>\n",
              "      <td>14260</td>\n",
              "      <td>8</td>\n",
              "      <td>5</td>\n",
              "      <td>2000</td>\n",
              "      <td>2000</td>\n",
              "      <td>350.0</td>\n",
              "      <td>655</td>\n",
              "      <td>...</td>\n",
              "      <td>False</td>\n",
              "      <td>False</td>\n",
              "      <td>False</td>\n",
              "      <td>False</td>\n",
              "      <td>True</td>\n",
              "      <td>False</td>\n",
              "      <td>False</td>\n",
              "      <td>False</td>\n",
              "      <td>True</td>\n",
              "      <td>False</td>\n",
              "    </tr>\n",
              "  </tbody>\n",
              "</table>\n",
              "<p>5 rows × 235 columns</p>\n",
              "</div>\n",
              "    <div class=\"colab-df-buttons\">\n",
              "\n",
              "  <div class=\"colab-df-container\">\n",
              "    <button class=\"colab-df-convert\" onclick=\"convertToInteractive('df-2dbc1cbe-dde8-496c-bfae-9bfc0c4c9ce6')\"\n",
              "            title=\"Convert this dataframe to an interactive table.\"\n",
              "            style=\"display:none;\">\n",
              "\n",
              "  <svg xmlns=\"http://www.w3.org/2000/svg\" height=\"24px\" viewBox=\"0 -960 960 960\">\n",
              "    <path d=\"M120-120v-720h720v720H120Zm60-500h600v-160H180v160Zm220 220h160v-160H400v160Zm0 220h160v-160H400v160ZM180-400h160v-160H180v160Zm440 0h160v-160H620v160ZM180-180h160v-160H180v160Zm440 0h160v-160H620v160Z\"/>\n",
              "  </svg>\n",
              "    </button>\n",
              "\n",
              "  <style>\n",
              "    .colab-df-container {\n",
              "      display:flex;\n",
              "      gap: 12px;\n",
              "    }\n",
              "\n",
              "    .colab-df-convert {\n",
              "      background-color: #E8F0FE;\n",
              "      border: none;\n",
              "      border-radius: 50%;\n",
              "      cursor: pointer;\n",
              "      display: none;\n",
              "      fill: #1967D2;\n",
              "      height: 32px;\n",
              "      padding: 0 0 0 0;\n",
              "      width: 32px;\n",
              "    }\n",
              "\n",
              "    .colab-df-convert:hover {\n",
              "      background-color: #E2EBFA;\n",
              "      box-shadow: 0px 1px 2px rgba(60, 64, 67, 0.3), 0px 1px 3px 1px rgba(60, 64, 67, 0.15);\n",
              "      fill: #174EA6;\n",
              "    }\n",
              "\n",
              "    .colab-df-buttons div {\n",
              "      margin-bottom: 4px;\n",
              "    }\n",
              "\n",
              "    [theme=dark] .colab-df-convert {\n",
              "      background-color: #3B4455;\n",
              "      fill: #D2E3FC;\n",
              "    }\n",
              "\n",
              "    [theme=dark] .colab-df-convert:hover {\n",
              "      background-color: #434B5C;\n",
              "      box-shadow: 0px 1px 3px 1px rgba(0, 0, 0, 0.15);\n",
              "      filter: drop-shadow(0px 1px 2px rgba(0, 0, 0, 0.3));\n",
              "      fill: #FFFFFF;\n",
              "    }\n",
              "  </style>\n",
              "\n",
              "    <script>\n",
              "      const buttonEl =\n",
              "        document.querySelector('#df-2dbc1cbe-dde8-496c-bfae-9bfc0c4c9ce6 button.colab-df-convert');\n",
              "      buttonEl.style.display =\n",
              "        google.colab.kernel.accessAllowed ? 'block' : 'none';\n",
              "\n",
              "      async function convertToInteractive(key) {\n",
              "        const element = document.querySelector('#df-2dbc1cbe-dde8-496c-bfae-9bfc0c4c9ce6');\n",
              "        const dataTable =\n",
              "          await google.colab.kernel.invokeFunction('convertToInteractive',\n",
              "                                                    [key], {});\n",
              "        if (!dataTable) return;\n",
              "\n",
              "        const docLinkHtml = 'Like what you see? Visit the ' +\n",
              "          '<a target=\"_blank\" href=https://colab.research.google.com/notebooks/data_table.ipynb>data table notebook</a>'\n",
              "          + ' to learn more about interactive tables.';\n",
              "        element.innerHTML = '';\n",
              "        dataTable['output_type'] = 'display_data';\n",
              "        await google.colab.output.renderOutput(dataTable, element);\n",
              "        const docLink = document.createElement('div');\n",
              "        docLink.innerHTML = docLinkHtml;\n",
              "        element.appendChild(docLink);\n",
              "      }\n",
              "    </script>\n",
              "  </div>\n",
              "\n",
              "\n",
              "<div id=\"df-7729658f-9513-44da-abef-f25caca4dc3a\">\n",
              "  <button class=\"colab-df-quickchart\" onclick=\"quickchart('df-7729658f-9513-44da-abef-f25caca4dc3a')\"\n",
              "            title=\"Suggest charts\"\n",
              "            style=\"display:none;\">\n",
              "\n",
              "<svg xmlns=\"http://www.w3.org/2000/svg\" height=\"24px\"viewBox=\"0 0 24 24\"\n",
              "     width=\"24px\">\n",
              "    <g>\n",
              "        <path d=\"M19 3H5c-1.1 0-2 .9-2 2v14c0 1.1.9 2 2 2h14c1.1 0 2-.9 2-2V5c0-1.1-.9-2-2-2zM9 17H7v-7h2v7zm4 0h-2V7h2v10zm4 0h-2v-4h2v4z\"/>\n",
              "    </g>\n",
              "</svg>\n",
              "  </button>\n",
              "\n",
              "<style>\n",
              "  .colab-df-quickchart {\n",
              "      --bg-color: #E8F0FE;\n",
              "      --fill-color: #1967D2;\n",
              "      --hover-bg-color: #E2EBFA;\n",
              "      --hover-fill-color: #174EA6;\n",
              "      --disabled-fill-color: #AAA;\n",
              "      --disabled-bg-color: #DDD;\n",
              "  }\n",
              "\n",
              "  [theme=dark] .colab-df-quickchart {\n",
              "      --bg-color: #3B4455;\n",
              "      --fill-color: #D2E3FC;\n",
              "      --hover-bg-color: #434B5C;\n",
              "      --hover-fill-color: #FFFFFF;\n",
              "      --disabled-bg-color: #3B4455;\n",
              "      --disabled-fill-color: #666;\n",
              "  }\n",
              "\n",
              "  .colab-df-quickchart {\n",
              "    background-color: var(--bg-color);\n",
              "    border: none;\n",
              "    border-radius: 50%;\n",
              "    cursor: pointer;\n",
              "    display: none;\n",
              "    fill: var(--fill-color);\n",
              "    height: 32px;\n",
              "    padding: 0;\n",
              "    width: 32px;\n",
              "  }\n",
              "\n",
              "  .colab-df-quickchart:hover {\n",
              "    background-color: var(--hover-bg-color);\n",
              "    box-shadow: 0 1px 2px rgba(60, 64, 67, 0.3), 0 1px 3px 1px rgba(60, 64, 67, 0.15);\n",
              "    fill: var(--button-hover-fill-color);\n",
              "  }\n",
              "\n",
              "  .colab-df-quickchart-complete:disabled,\n",
              "  .colab-df-quickchart-complete:disabled:hover {\n",
              "    background-color: var(--disabled-bg-color);\n",
              "    fill: var(--disabled-fill-color);\n",
              "    box-shadow: none;\n",
              "  }\n",
              "\n",
              "  .colab-df-spinner {\n",
              "    border: 2px solid var(--fill-color);\n",
              "    border-color: transparent;\n",
              "    border-bottom-color: var(--fill-color);\n",
              "    animation:\n",
              "      spin 1s steps(1) infinite;\n",
              "  }\n",
              "\n",
              "  @keyframes spin {\n",
              "    0% {\n",
              "      border-color: transparent;\n",
              "      border-bottom-color: var(--fill-color);\n",
              "      border-left-color: var(--fill-color);\n",
              "    }\n",
              "    20% {\n",
              "      border-color: transparent;\n",
              "      border-left-color: var(--fill-color);\n",
              "      border-top-color: var(--fill-color);\n",
              "    }\n",
              "    30% {\n",
              "      border-color: transparent;\n",
              "      border-left-color: var(--fill-color);\n",
              "      border-top-color: var(--fill-color);\n",
              "      border-right-color: var(--fill-color);\n",
              "    }\n",
              "    40% {\n",
              "      border-color: transparent;\n",
              "      border-right-color: var(--fill-color);\n",
              "      border-top-color: var(--fill-color);\n",
              "    }\n",
              "    60% {\n",
              "      border-color: transparent;\n",
              "      border-right-color: var(--fill-color);\n",
              "    }\n",
              "    80% {\n",
              "      border-color: transparent;\n",
              "      border-right-color: var(--fill-color);\n",
              "      border-bottom-color: var(--fill-color);\n",
              "    }\n",
              "    90% {\n",
              "      border-color: transparent;\n",
              "      border-bottom-color: var(--fill-color);\n",
              "    }\n",
              "  }\n",
              "</style>\n",
              "\n",
              "  <script>\n",
              "    async function quickchart(key) {\n",
              "      const quickchartButtonEl =\n",
              "        document.querySelector('#' + key + ' button');\n",
              "      quickchartButtonEl.disabled = true;  // To prevent multiple clicks.\n",
              "      quickchartButtonEl.classList.add('colab-df-spinner');\n",
              "      try {\n",
              "        const charts = await google.colab.kernel.invokeFunction(\n",
              "            'suggestCharts', [key], {});\n",
              "      } catch (error) {\n",
              "        console.error('Error during call to suggestCharts:', error);\n",
              "      }\n",
              "      quickchartButtonEl.classList.remove('colab-df-spinner');\n",
              "      quickchartButtonEl.classList.add('colab-df-quickchart-complete');\n",
              "    }\n",
              "    (() => {\n",
              "      let quickchartButtonEl =\n",
              "        document.querySelector('#df-7729658f-9513-44da-abef-f25caca4dc3a button');\n",
              "      quickchartButtonEl.style.display =\n",
              "        google.colab.kernel.accessAllowed ? 'block' : 'none';\n",
              "    })();\n",
              "  </script>\n",
              "</div>\n",
              "\n",
              "    </div>\n",
              "  </div>\n"
            ],
            "application/vnd.google.colaboratory.intrinsic+json": {
              "type": "dataframe",
              "variable_name": "train_data"
            }
          },
          "metadata": {},
          "execution_count": 10
        }
      ],
      "source": [
        "train_data.head()"
      ]
    },
    {
      "cell_type": "markdown",
      "metadata": {
        "id": "2Gqm2BqWV9Zh"
      },
      "source": [
        "Par exemple : Il y a 3 nouvelles colonnes pour LandContour: [LandContour_HLS, LandContour_Low, LandContour_Lvl]"
      ]
    },
    {
      "cell_type": "code",
      "execution_count": null,
      "metadata": {
        "colab": {
          "base_uri": "https://localhost:8080/"
        },
        "id": "FEGv14ZTUSzO",
        "outputId": "792dfd2a-b432-4ad3-ad11-a27283e9131f"
      },
      "outputs": [
        {
          "output_type": "stream",
          "name": "stdout",
          "text": [
            "Nombre de colonnes après preprocessing : 235\n",
            "Liste des colonnes : Id, MSSubClass, LotFrontage, LotArea, OverallQual, OverallCond, YearBuilt, YearRemodAdd, MasVnrArea, BsmtFinSF1, BsmtFinSF2, BsmtUnfSF, TotalBsmtSF, 1stFlrSF, 2ndFlrSF, LowQualFinSF, GrLivArea, BsmtFullBath, BsmtHalfBath, FullBath, HalfBath, BedroomAbvGr, KitchenAbvGr, TotRmsAbvGrd, Fireplaces, GarageYrBlt, GarageCars, GarageArea, WoodDeckSF, OpenPorchSF, EnclosedPorch, 3SsnPorch, ScreenPorch, PoolArea, MiscVal, MoSold, YrSold, SalePrice, MSZoning_FV, MSZoning_RH, MSZoning_RL, MSZoning_RM, Street_Pave, LotShape_IR2, LotShape_IR3, LotShape_Reg, LandContour_HLS, LandContour_Low, LandContour_Lvl, Utilities_NoSeWa, LotConfig_CulDSac, LotConfig_FR2, LotConfig_FR3, LotConfig_Inside, LandSlope_Mod, LandSlope_Sev, Neighborhood_Blueste, Neighborhood_BrDale, Neighborhood_BrkSide, Neighborhood_ClearCr, Neighborhood_CollgCr, Neighborhood_Crawfor, Neighborhood_Edwards, Neighborhood_Gilbert, Neighborhood_IDOTRR, Neighborhood_MeadowV, Neighborhood_Mitchel, Neighborhood_NAmes, Neighborhood_NPkVill, Neighborhood_NWAmes, Neighborhood_NoRidge, Neighborhood_NridgHt, Neighborhood_OldTown, Neighborhood_SWISU, Neighborhood_Sawyer, Neighborhood_SawyerW, Neighborhood_Somerst, Neighborhood_StoneBr, Neighborhood_Timber, Neighborhood_Veenker, Condition1_Feedr, Condition1_Norm, Condition1_PosA, Condition1_PosN, Condition1_RRAe, Condition1_RRAn, Condition1_RRNe, Condition1_RRNn, Condition2_Feedr, Condition2_Norm, Condition2_PosA, Condition2_PosN, Condition2_RRAe, Condition2_RRAn, Condition2_RRNn, BldgType_2fmCon, BldgType_Duplex, BldgType_Twnhs, BldgType_TwnhsE, HouseStyle_1.5Unf, HouseStyle_1Story, HouseStyle_2.5Fin, HouseStyle_2.5Unf, HouseStyle_2Story, HouseStyle_SFoyer, HouseStyle_SLvl, RoofStyle_Gable, RoofStyle_Gambrel, RoofStyle_Hip, RoofStyle_Mansard, RoofStyle_Shed, RoofMatl_CompShg, RoofMatl_Membran, RoofMatl_Metal, RoofMatl_Roll, RoofMatl_Tar&Grv, RoofMatl_WdShake, RoofMatl_WdShngl, Exterior1st_AsphShn, Exterior1st_BrkComm, Exterior1st_BrkFace, Exterior1st_CBlock, Exterior1st_CemntBd, Exterior1st_HdBoard, Exterior1st_ImStucc, Exterior1st_MetalSd, Exterior1st_Plywood, Exterior1st_Stone, Exterior1st_Stucco, Exterior1st_VinylSd, Exterior1st_Wd Sdng, Exterior1st_WdShing, Exterior2nd_AsphShn, Exterior2nd_Brk Cmn, Exterior2nd_BrkFace, Exterior2nd_CBlock, Exterior2nd_CmentBd, Exterior2nd_HdBoard, Exterior2nd_ImStucc, Exterior2nd_MetalSd, Exterior2nd_Other, Exterior2nd_Plywood, Exterior2nd_Stone, Exterior2nd_Stucco, Exterior2nd_VinylSd, Exterior2nd_Wd Sdng, Exterior2nd_Wd Shng, ExterQual_Fa, ExterQual_Gd, ExterQual_TA, ExterCond_Fa, ExterCond_Gd, ExterCond_Po, ExterCond_TA, Foundation_CBlock, Foundation_PConc, Foundation_Slab, Foundation_Stone, Foundation_Wood, BsmtQual_Fa, BsmtQual_Gd, BsmtQual_TA, BsmtCond_Gd, BsmtCond_Po, BsmtCond_TA, BsmtExposure_Gd, BsmtExposure_Mn, BsmtExposure_No, BsmtFinType1_BLQ, BsmtFinType1_GLQ, BsmtFinType1_LwQ, BsmtFinType1_Rec, BsmtFinType1_Unf, BsmtFinType2_BLQ, BsmtFinType2_GLQ, BsmtFinType2_LwQ, BsmtFinType2_Rec, BsmtFinType2_Unf, Heating_GasA, Heating_GasW, Heating_Grav, Heating_OthW, Heating_Wall, HeatingQC_Fa, HeatingQC_Gd, HeatingQC_Po, HeatingQC_TA, CentralAir_Y, Electrical_FuseF, Electrical_FuseP, Electrical_Mix, Electrical_SBrkr, KitchenQual_Fa, KitchenQual_Gd, KitchenQual_TA, Functional_Maj2, Functional_Min1, Functional_Min2, Functional_Mod, Functional_Sev, Functional_Typ, FireplaceQu_Fa, FireplaceQu_Gd, FireplaceQu_Po, FireplaceQu_TA, GarageType_Attchd, GarageType_Basment, GarageType_BuiltIn, GarageType_CarPort, GarageType_Detchd, GarageFinish_RFn, GarageFinish_Unf, GarageQual_Fa, GarageQual_Gd, GarageQual_Po, GarageQual_TA, GarageCond_Fa, GarageCond_Gd, GarageCond_Po, GarageCond_TA, PavedDrive_P, PavedDrive_Y, SaleType_CWD, SaleType_Con, SaleType_ConLD, SaleType_ConLI, SaleType_ConLw, SaleType_New, SaleType_Oth, SaleType_WD, SaleCondition_AdjLand, SaleCondition_Alloca, SaleCondition_Family, SaleCondition_Normal, SaleCondition_Partial\n"
          ]
        }
      ],
      "source": [
        "column_names = train_data.columns.tolist()\n",
        "print('Nombre de colonnes après preprocessing : ' +  str(len(column_names)))\n",
        "print('Liste des colonnes : ' + ', '.join(column_names))"
      ]
    },
    {
      "cell_type": "code",
      "execution_count": null,
      "metadata": {
        "id": "PV5TgU6tpJwQ"
      },
      "outputs": [],
      "source": [
        "y = train_data['SalePrice']\n",
        "X = train_data.drop(['SalePrice', 'Id'], axis=1)"
      ]
    },
    {
      "cell_type": "code",
      "execution_count": null,
      "metadata": {
        "id": "xxBvas1vpQAJ"
      },
      "outputs": [],
      "source": [
        "from sklearn.model_selection import train_test_split\n",
        "\n",
        "X_train, X_valid, y_train, y_valid = train_test_split(X, y, test_size=0.2, random_state=42)"
      ]
    },
    {
      "cell_type": "markdown",
      "metadata": {
        "id": "NhzfZX309-vD"
      },
      "source": [
        "# Choix des modèles"
      ]
    },
    {
      "cell_type": "code",
      "execution_count": null,
      "metadata": {
        "colab": {
          "base_uri": "https://localhost:8080/"
        },
        "id": "CZ0uPcj0m7Ye",
        "outputId": "8406c57c-109f-4af9-af77-3d25a840d8bb"
      },
      "outputs": [
        {
          "output_type": "stream",
          "name": "stdout",
          "text": [
            "Requirement already satisfied: xgboost in /usr/local/lib/python3.11/dist-packages (2.1.4)\n",
            "Requirement already satisfied: numpy in /usr/local/lib/python3.11/dist-packages (from xgboost) (1.26.4)\n",
            "Requirement already satisfied: nvidia-nccl-cu12 in /usr/local/lib/python3.11/dist-packages (from xgboost) (2.21.5)\n",
            "Requirement already satisfied: scipy in /usr/local/lib/python3.11/dist-packages (from xgboost) (1.13.1)\n",
            "Collecting CatBoost\n",
            "  Downloading catboost-1.2.7-cp311-cp311-manylinux2014_x86_64.whl.metadata (1.2 kB)\n",
            "Requirement already satisfied: graphviz in /usr/local/lib/python3.11/dist-packages (from CatBoost) (0.20.3)\n",
            "Requirement already satisfied: matplotlib in /usr/local/lib/python3.11/dist-packages (from CatBoost) (3.10.0)\n",
            "Requirement already satisfied: numpy<2.0,>=1.16.0 in /usr/local/lib/python3.11/dist-packages (from CatBoost) (1.26.4)\n",
            "Requirement already satisfied: pandas>=0.24 in /usr/local/lib/python3.11/dist-packages (from CatBoost) (2.2.2)\n",
            "Requirement already satisfied: scipy in /usr/local/lib/python3.11/dist-packages (from CatBoost) (1.13.1)\n",
            "Requirement already satisfied: plotly in /usr/local/lib/python3.11/dist-packages (from CatBoost) (5.24.1)\n",
            "Requirement already satisfied: six in /usr/local/lib/python3.11/dist-packages (from CatBoost) (1.17.0)\n",
            "Requirement already satisfied: python-dateutil>=2.8.2 in /usr/local/lib/python3.11/dist-packages (from pandas>=0.24->CatBoost) (2.8.2)\n",
            "Requirement already satisfied: pytz>=2020.1 in /usr/local/lib/python3.11/dist-packages (from pandas>=0.24->CatBoost) (2025.1)\n",
            "Requirement already satisfied: tzdata>=2022.7 in /usr/local/lib/python3.11/dist-packages (from pandas>=0.24->CatBoost) (2025.1)\n",
            "Requirement already satisfied: contourpy>=1.0.1 in /usr/local/lib/python3.11/dist-packages (from matplotlib->CatBoost) (1.3.1)\n",
            "Requirement already satisfied: cycler>=0.10 in /usr/local/lib/python3.11/dist-packages (from matplotlib->CatBoost) (0.12.1)\n",
            "Requirement already satisfied: fonttools>=4.22.0 in /usr/local/lib/python3.11/dist-packages (from matplotlib->CatBoost) (4.56.0)\n",
            "Requirement already satisfied: kiwisolver>=1.3.1 in /usr/local/lib/python3.11/dist-packages (from matplotlib->CatBoost) (1.4.8)\n",
            "Requirement already satisfied: packaging>=20.0 in /usr/local/lib/python3.11/dist-packages (from matplotlib->CatBoost) (24.2)\n",
            "Requirement already satisfied: pillow>=8 in /usr/local/lib/python3.11/dist-packages (from matplotlib->CatBoost) (11.1.0)\n",
            "Requirement already satisfied: pyparsing>=2.3.1 in /usr/local/lib/python3.11/dist-packages (from matplotlib->CatBoost) (3.2.1)\n",
            "Requirement already satisfied: tenacity>=6.2.0 in /usr/local/lib/python3.11/dist-packages (from plotly->CatBoost) (9.0.0)\n",
            "Downloading catboost-1.2.7-cp311-cp311-manylinux2014_x86_64.whl (98.7 MB)\n",
            "\u001b[2K   \u001b[90m━━━━━━━━━━━━━━━━━━━━━━━━━━━━━━━━━━━━━━━━\u001b[0m \u001b[32m98.7/98.7 MB\u001b[0m \u001b[31m8.3 MB/s\u001b[0m eta \u001b[36m0:00:00\u001b[0m\n",
            "\u001b[?25hInstalling collected packages: CatBoost\n",
            "Successfully installed CatBoost-1.2.7\n"
          ]
        },
        {
          "output_type": "stream",
          "name": "stderr",
          "text": [
            "/usr/local/lib/python3.11/dist-packages/dask/dataframe/__init__.py:42: FutureWarning: \n",
            "Dask dataframe query planning is disabled because dask-expr is not installed.\n",
            "\n",
            "You can install it with `pip install dask[dataframe]` or `conda install dask`.\n",
            "This will raise in a future version.\n",
            "\n",
            "  warnings.warn(msg, FutureWarning)\n"
          ]
        }
      ],
      "source": [
        "!pip install xgboost\n",
        "!pip install CatBoost\n",
        "\n",
        "import pandas as pd\n",
        "import numpy as np\n",
        "from sklearn.metrics import mean_absolute_error\n",
        "from sklearn.metrics import mean_squared_error\n",
        "\n",
        "from sklearn.linear_model import LinearRegression\n",
        "from sklearn.ensemble import RandomForestRegressor, GradientBoostingRegressor\n",
        "from xgboost import XGBRegressor\n",
        "from sklearn.svm import SVR\n",
        "from sklearn.neighbors import KNeighborsRegressor\n",
        "from sklearn.tree import DecisionTreeRegressor\n",
        "import lightgbm as lgb\n",
        "from catboost import CatBoostRegressor\n"
      ]
    },
    {
      "cell_type": "code",
      "execution_count": null,
      "metadata": {
        "colab": {
          "base_uri": "https://localhost:8080/"
        },
        "collapsed": true,
        "id": "8VmbmqFYp6-3",
        "outputId": "7091d70e-d8bb-4355-ff44-8b282eb3a7d8"
      },
      "outputs": [
        {
          "output_type": "stream",
          "name": "stderr",
          "text": [
            "/usr/local/lib/python3.11/dist-packages/keras/src/layers/core/dense.py:87: UserWarning: Do not pass an `input_shape`/`input_dim` argument to a layer. When using Sequential models, prefer using an `Input(shape)` object as the first layer in the model instead.\n",
            "  super().__init__(activity_regularizer=activity_regularizer, **kwargs)\n"
          ]
        }
      ],
      "source": [
        "from tensorflow.keras.models import Sequential\n",
        "from tensorflow.keras.layers import Dense, Dropout, BatchNormalization, Add\n",
        "from tensorflow.keras.callbacks import EarlyStopping\n",
        "\n",
        "model_homemade = Sequential([\n",
        "    Dense(1024, activation='relu', input_shape=(X_train.shape[1],)),\n",
        "    Dropout(0.4),\n",
        "    Dense(512, activation='relu'),\n",
        "    Dropout(0.4),\n",
        "    Dense(256, activation='relu'),\n",
        "    Dropout(0.3),\n",
        "    Dense(128, activation='relu'),\n",
        "    Dropout(0.3),\n",
        "    Dense(64, activation='relu'),\n",
        "    Dropout(0.2),\n",
        "    Dense(32, activation='relu'),\n",
        "    Dropout(0.2),\n",
        "    Dense(16, activation='relu'),\n",
        "    Dropout(0.1),\n",
        "    Dense(8, activation='relu'),\n",
        "    Dense(1)\n",
        "])\n",
        "\n",
        "model_homemade.compile(optimizer='adam', loss='mse', metrics=['mae'])"
      ]
    },
    {
      "cell_type": "code",
      "execution_count": null,
      "metadata": {
        "id": "m_vxrr2TzayN"
      },
      "outputs": [],
      "source": [
        "models = {\n",
        "    \"Notre modèle\": model_homemade,\n",
        "    \"Linear Regression\": LinearRegression(),\n",
        "    \"Random Forest\": RandomForestRegressor(),\n",
        "    \"Gradient Boosting\": GradientBoostingRegressor(),\n",
        "    \"XGBoost\": XGBRegressor(),\n",
        "    \"Support Vector Regression\": SVR(),\n",
        "    \"K-Nearest Neighbors\": KNeighborsRegressor(),\n",
        "    \"Decision Tree\": DecisionTreeRegressor(),\n",
        "    \"LightGBM\": lgb.LGBMRegressor(objective='regression'),\n",
        "    \"CatBoost\": CatBoostRegressor(verbose=False) # Pour enlever les logs\n",
        "}"
      ]
    },
    {
      "cell_type": "code",
      "execution_count": null,
      "metadata": {
        "colab": {
          "base_uri": "https://localhost:8080/"
        },
        "id": "Bpgb0uvkpSKJ",
        "outputId": "ca6bde2b-cd3f-45f3-bbbd-e3f5dd564800"
      },
      "outputs": [
        {
          "output_type": "stream",
          "name": "stdout",
          "text": [
            "\u001b[1m37/37\u001b[0m \u001b[32m━━━━━━━━━━━━━━━━━━━━\u001b[0m\u001b[37m\u001b[0m \u001b[1m5s\u001b[0m 20ms/step - loss: 35492364288.0000 - mae: 163464.0625\n",
            "\u001b[1m10/10\u001b[0m \u001b[32m━━━━━━━━━━━━━━━━━━━━\u001b[0m\u001b[37m\u001b[0m \u001b[1m0s\u001b[0m 14ms/step\n",
            "[LightGBM] [Warning] Found whitespace in feature_names, replace with underlines\n",
            "[LightGBM] [Info] Auto-choosing row-wise multi-threading, the overhead of testing was 0.001507 seconds.\n",
            "You can set `force_row_wise=true` to remove the overhead.\n",
            "And if memory is not enough, you can set `force_col_wise=true`.\n",
            "[LightGBM] [Info] Total Bins 3130\n",
            "[LightGBM] [Info] Number of data points in the train set: 1168, number of used features: 149\n",
            "[LightGBM] [Info] Start training from score 181441.541952\n",
            "Notre modèle:\n",
            "  MAE: 100853.359375\n",
            "  RMSE: 127169.90033809101\n",
            "Linear Regression:\n",
            "  MAE: 20535.78962215432\n",
            "  RMSE: 52200.261201205096\n",
            "Random Forest:\n",
            "  MAE: 17661.89366438356\n",
            "  RMSE: 28918.04539203667\n",
            "Gradient Boosting:\n",
            "  MAE: 17417.378224566564\n",
            "  RMSE: 27650.180467442427\n",
            "XGBoost:\n",
            "  MAE: 17330.080078125\n",
            "  RMSE: 28951.635256061098\n",
            "Support Vector Regression:\n",
            "  MAE: 59556.72803222618\n",
            "  RMSE: 88653.02226154016\n",
            "K-Nearest Neighbors:\n",
            "  MAE: 28141.803424657533\n",
            "  RMSE: 47678.20881587598\n",
            "Decision Tree:\n",
            "  MAE: 27705.318493150684\n",
            "  RMSE: 44021.96314710809\n",
            "LightGBM:\n",
            "  MAE: 17311.224233921825\n",
            "  RMSE: 29687.810625360205\n",
            "CatBoost:\n",
            "  MAE: 15451.041744959104\n",
            "  RMSE: 25777.4792548801\n"
          ]
        }
      ],
      "source": [
        "model_performance = {}\n",
        "\n",
        "for model_name, model in models.items():\n",
        "    # On entraîane chaque modèle\n",
        "    model.fit(X_train, y_train)\n",
        "\n",
        "    # On calcule le MAE et le RMSE pour chaque modèle\n",
        "    preds = model.predict(X_valid)\n",
        "    mae = mean_absolute_error(y_valid, preds)\n",
        "    rmse = np.sqrt(mean_squared_error(y_valid, preds))\n",
        "    model_performance[model_name] = {'MAE': mae, 'RMSE': rmse}\n",
        "\n",
        "for model_name, performance in model_performance.items():\n",
        "    print(f\"{model_name}:\")\n",
        "    print(f\"  MAE: {performance['MAE']}\")\n",
        "    print(f\"  RMSE: {performance['RMSE']}\")\n"
      ]
    },
    {
      "cell_type": "markdown",
      "metadata": {
        "id": "CRH7Xfe5Xadf"
      },
      "source": [
        "## GradBoostRegressor"
      ]
    },
    {
      "cell_type": "code",
      "execution_count": null,
      "metadata": {
        "id": "ARlN1CFNs8Pm"
      },
      "outputs": [],
      "source": [
        "from sklearn.model_selection import RandomizedSearchCV"
      ]
    },
    {
      "cell_type": "code",
      "execution_count": null,
      "metadata": {
        "colab": {
          "base_uri": "https://localhost:8080/"
        },
        "id": "rXaHL9ErvstD",
        "outputId": "98705815-dece-425e-8e7d-c7d5e0c68e36"
      },
      "outputs": [
        {
          "output_type": "stream",
          "name": "stdout",
          "text": [
            "Best Parameters: {'subsample': 0.9, 'n_estimators': 1500, 'min_samples_split': 30, 'min_samples_leaf': 1, 'max_features': 'log2', 'max_depth': 9, 'loss': 'squared_error', 'learning_rate': 0.01}\n",
            "Best Score: 0.8964279092959601\n"
          ]
        }
      ],
      "source": [
        "gbm = GradientBoostingRegressor()\n",
        "\n",
        "# Grille d'hyperparamètres\n",
        "param = {\n",
        "    'n_estimators': [100, 200, 300,500,1000, 1500, 2000],\n",
        "    'learning_rate': [0.001, 0.01, 0.1, 0.05, 0.5, 0.04, 0.06],\n",
        "    'max_depth': list(np.arange(3, 31, 2)),\n",
        "    'min_samples_split': [2, 5, 10, 20, 30, 50],\n",
        "    'subsample': [0.5, 0.6, 0.7, 0.8, 0.9, 1.0],\n",
        "    'max_features': ['sqrt', 'log2'],\n",
        "    'min_samples_leaf': [1, 2, 4, 8],\n",
        "    'loss': ['squared_error', 'absolute_error', 'huber'],\n",
        "}\n",
        "\n",
        "best_model_gbm = RandomizedSearchCV(gbm, param_distributions=param, cv=10, n_jobs=-1, random_state=20, scoring='r2')\n",
        "best_model_gbm.fit(X, y)\n",
        "\n",
        "print(\"Best Parameters:\", best_model_gbm.best_params_)\n",
        "print(\"Best Score:\", best_model_gbm.best_score_)\n",
        "best_model_gbm = best_model_gbm.best_estimator_"
      ]
    },
    {
      "cell_type": "code",
      "execution_count": null,
      "metadata": {
        "colab": {
          "background_save": true
        },
        "id": "BZdgmKxjwE_E"
      },
      "outputs": [],
      "source": [
        "best_model_gbm.fit(X_train, y_train)"
      ]
    },
    {
      "cell_type": "code",
      "execution_count": null,
      "metadata": {
        "colab": {
          "background_save": true
        },
        "id": "Q4BfbkVLpWDd"
      },
      "outputs": [],
      "source": [
        "best_model_gbm.fit(X_train, y_train)\n",
        "\n",
        "preds = best_model_gbm.predict(X_valid)\n",
        "\n",
        "mae = mean_absolute_error(y_valid, preds)\n",
        "print(\"Mean Absolute Error:\", mae)\n",
        "rmse = np.sqrt(mean_squared_error(y_valid, preds))\n",
        "print(\"Root Mean Squared Error:\", rmse)"
      ]
    },
    {
      "cell_type": "markdown",
      "metadata": {
        "id": "no87lJURXfYJ"
      },
      "source": [
        "## CatBoost"
      ]
    },
    {
      "cell_type": "code",
      "execution_count": null,
      "metadata": {
        "colab": {
          "background_save": true
        },
        "id": "6Fr7BhwuXO3R"
      },
      "outputs": [],
      "source": [
        "catboost_model = CatBoostRegressor(verbose=False)\n",
        "\n",
        "param_catboost = {\n",
        "    'iterations': [100, 200, 300, 500, 1000, 1500, 2000],\n",
        "    'learning_rate': [0.001, 0.01, 0.1, 0.05, 0.5, 0.04, 0.06],\n",
        "    'depth': list(np.arange(3, 31, 2)),\n",
        "    'l2_leaf_reg': [1, 3, 5, 7, 9],\n",
        "    'border_count': [32, 64, 128, 254],\n",
        "    'random_strength': [1, 2, 3, 4, 5],\n",
        "    'bagging_temperature': [0, 0.5, 1],\n",
        "    'od_type': ['EBS', 'IncToDec'],\n",
        "    'od_wait': [20, 50, 100],\n",
        "}\n",
        "\n",
        "best_model_catboost = RandomizedSearchCV(\n",
        "    catboost_model,\n",
        "    param_distributions=param_catboost,\n",
        "    cv=10,\n",
        "    n_jobs=-1,\n",
        "    random_state=20,\n",
        "    scoring='r2'\n",
        ")\n",
        "best_model_catboost.fit(X, y)\n",
        "\n",
        "print(\"Best Parameters (CatBoost):\", best_model_catboost.best_params_)\n",
        "print(\"Best Score (CatBoost):\", best_model_catboost.best_score_)\n",
        "\n",
        "best_model_catboost = best_model_catboost.best_estimator_"
      ]
    },
    {
      "cell_type": "code",
      "execution_count": null,
      "metadata": {
        "colab": {
          "background_save": true
        },
        "id": "WisgXuZCawRh"
      },
      "outputs": [],
      "source": [
        "best_model_catboost.fit(X_train, y_train)\n",
        "\n",
        "preds = best_model_catboost.predict(X_valid)\n",
        "\n",
        "mae = mean_absolute_error(y_valid, preds)\n",
        "print(\"Mean Absolute Error:\", mae)\n",
        "rmse = np.sqrt(mean_squared_error(y_valid, preds))\n",
        "print(\"Root Mean Squared Error:\", rmse)"
      ]
    },
    {
      "cell_type": "markdown",
      "metadata": {
        "id": "gXwcn195an60"
      },
      "source": [
        "# XGBoost"
      ]
    },
    {
      "cell_type": "code",
      "execution_count": null,
      "metadata": {
        "colab": {
          "background_save": true
        },
        "id": "gdM-7i4saqJf"
      },
      "outputs": [],
      "source": [
        "xgb_model = XGBRegressor()\n",
        "\n",
        "param_xgboost = {\n",
        "    'n_estimators': [100, 200, 300, 500, 1000],\n",
        "    'learning_rate': [0.01, 0.05, 0.1, 0.2],\n",
        "    'max_depth': [3, 5, 7, 9],\n",
        "    'subsample': [0.6, 0.8, 1.0],\n",
        "    'colsample_bytree': [0.6, 0.8, 1.0],\n",
        "    'gamma': [0, 0.1, 0.5, 1],\n",
        "    'reg_alpha': [0, 0.1, 1],\n",
        "    'reg_lambda': [0, 0.1, 1]\n",
        "}\n",
        "\n",
        "best_model_xgboost = RandomizedSearchCV(\n",
        "    xgb_model,\n",
        "    param_distributions=param_xgboost,\n",
        "    cv=10,\n",
        "    n_jobs=-1,\n",
        "    random_state=20,\n",
        "    scoring='r2'\n",
        ")\n",
        "best_model_xgboost.fit(X, y)\n",
        "\n",
        "print(\"Best Parameters (XGBoost):\", best_model_xgboost.best_params_)\n",
        "print(\"Best Score (XGBoost):\", best_model_xgboost.best_score_)\n",
        "\n",
        "best_model_xgboost = best_model_xgboost.best_estimator_\n"
      ]
    },
    {
      "cell_type": "code",
      "execution_count": null,
      "metadata": {
        "colab": {
          "background_save": true
        },
        "id": "h7CVY7Hma3nf"
      },
      "outputs": [],
      "source": [
        "best_model_xgboost.fit(X_train, y_train)\n",
        "\n",
        "preds = best_model_xgboost.predict(X_valid)\n",
        "\n",
        "mae = mean_absolute_error(y_valid, preds)\n",
        "print(\"Mean Absolute Error:\", mae)\n",
        "rmse = np.sqrt(mean_squared_error(y_valid, preds))\n",
        "print(\"Root Mean Squared Error:\", rmse)"
      ]
    },
    {
      "cell_type": "markdown",
      "metadata": {
        "id": "MfQw7dVcYbT8"
      },
      "source": [
        "# Estimations sur le dataset de test"
      ]
    },
    {
      "cell_type": "code",
      "execution_count": null,
      "metadata": {
        "colab": {
          "background_save": true
        },
        "id": "_DEtorzgpYAV"
      },
      "outputs": [],
      "source": [
        "test_data = pd.read_csv('test.csv')\n",
        "test_data = test_data.drop(columns_to_drop, axis=1, errors='ignore')\n",
        "test_data = pd.get_dummies(test_data, drop_first=True)"
      ]
    },
    {
      "cell_type": "code",
      "execution_count": null,
      "metadata": {
        "colab": {
          "background_save": true
        },
        "id": "8OsVODSbpc2h"
      },
      "outputs": [],
      "source": [
        "X_test = test_data.reindex(columns=X.columns, fill_value=0)\n",
        "\n",
        "# Predict on the test data\n",
        "predictions = best_model_catboost.predict(X_test)"
      ]
    },
    {
      "cell_type": "code",
      "execution_count": null,
      "metadata": {
        "colab": {
          "background_save": true
        },
        "id": "K0NO_FjzpeC6"
      },
      "outputs": [],
      "source": [
        "output = pd.DataFrame({'Id': test_data['Id'], 'SalePrice': predictions})\n",
        "output.to_csv('submission_cat.csv', index=False)\n",
        "print(\"Predictions saved to submission_cat.csv\")\n"
      ]
    },
    {
      "cell_type": "markdown",
      "metadata": {
        "id": "jdsUvRYItR_8"
      },
      "source": [
        "# Méthode Stacking"
      ]
    },
    {
      "cell_type": "code",
      "execution_count": null,
      "metadata": {
        "colab": {
          "background_save": true
        },
        "id": "M7lGHNQGtRy1"
      },
      "outputs": [],
      "source": [
        "Méthode Stacking :\n",
        "\n",
        "from google.colab import drive\n",
        "import pandas as pd\n",
        "import numpy as np\n",
        "from sklearn.ensemble import RandomForestRegressor\n",
        "from xgboost import XGBRegressor\n",
        "from tensorflow.keras.models import Sequential\n",
        "from tensorflow.keras.layers import Dense, Dropout, BatchNormalization\n",
        "from tensorflow.keras.optimizers import Adam\n",
        "from sklearn.linear_model import Ridge\n",
        "from sklearn.model_selection import train_test_split\n",
        "from sklearn.preprocessing import StandardScaler\n",
        "from sklearn.metrics import mean_absolute_error, mean_squared_error\n",
        "import matplotlib.pyplot as plt\n",
        "\n",
        "\n",
        "drive.mount('/content/drive')\n",
        "\n",
        "\n",
        "data = pd.read_csv(\"/content/drive/MyDrive/IAetapplications/train.csv\")\n",
        "\n",
        "\n",
        "# Gestion des valeurs manquantes\n",
        "data.fillna(data.median(numeric_only=True), inplace=True)\n",
        "data.fillna(data.mode().iloc[0], inplace=True)\n",
        "\n",
        "\n",
        "# Encodage des variables catégoriques\n",
        "data = pd.get_dummies(data, drop_first=True)\n",
        "data['SalePrice'] = np.log1p(data['SalePrice'])\n",
        "\n",
        "\n",
        "X = data.drop(columns=['SalePrice', 'Id'])\n",
        "y = data['SalePrice']\n",
        "X_train, X_valid, y_train, y_valid = train_test_split(X, y, test_size=0.2, random_state=42)\n",
        "\n",
        "\n",
        "scaler = StandardScaler()\n",
        "X_train = scaler.fit_transform(X_train)\n",
        "X_valid = scaler.transform(X_valid)\n",
        "\n",
        "\n",
        "rf = RandomForestRegressor(n_estimators=200, max_depth=20, random_state=42)\n",
        "rf.fit(X_train, y_train)\n",
        "\n",
        "\n",
        "xgb = XGBRegressor(n_estimators=200, max_depth=8, learning_rate=0.05, subsample=0.8, random_state=42)\n",
        "xgb.fit(X_train, y_train)\n",
        "\n",
        "\n",
        "model = Sequential([\n",
        "    Dense(1024, activation='relu', input_shape=(X_train.shape[1],)),\n",
        "    BatchNormalization(), Dropout(0.4),\n",
        "    Dense(512, activation='relu'), BatchNormalization(), Dropout(0.4),\n",
        "    Dense(256, activation='relu'), BatchNormalization(), Dropout(0.3),\n",
        "    Dense(128, activation='relu'), BatchNormalization(), Dropout(0.3),\n",
        "    Dense(64, activation='relu'), Dropout(0.2),\n",
        "    Dense(1)\n",
        "])\n",
        "model.compile(optimizer=Adam(learning_rate=0.001), loss='mse', metrics=['mae'])\n",
        "model.fit(X_train, y_train, validation_data=(X_valid, y_valid), epochs=100, batch_size=64, verbose=1)\n",
        "\n",
        "\n",
        "rf_preds_train = rf.predict(X_train)\n",
        "xgb_preds_train = xgb.predict(X_train)\n",
        "nn_preds_train = model.predict(X_train).flatten()\n",
        "\n",
        "\n",
        "rf_preds_valid = rf.predict(X_valid)\n",
        "xgb_preds_valid = xgb.predict(X_valid)\n",
        "nn_preds_valid = model.predict(X_valid).flatten()\n",
        "\n",
        "\n",
        "stacked_train = np.vstack([rf_preds_train, xgb_preds_train, nn_preds_train]).T\n",
        "stacked_valid = np.vstack([rf_preds_valid, xgb_preds_valid, nn_preds_valid]).T\n",
        "\n",
        "\n",
        "meta_model = Ridge(alpha=1.0)\n",
        "meta_model.fit(stacked_train, y_train)\n",
        "\n",
        "\n",
        "stacked_preds_valid = meta_model.predict(stacked_valid)\n",
        "\n",
        "\n",
        "#Echelle originale\n",
        "predicted_prices = np.expm1(stacked_preds_valid)\n",
        "real_prices = np.expm1(y_valid)\n",
        "\n",
        "\n",
        "mae = mean_absolute_error(real_prices, predicted_prices)\n",
        "rmse = np.sqrt(mean_squared_error(real_prices, predicted_prices))\n",
        "\n",
        "\n",
        "print(f\"MAE : {mae:.2f}\")\n",
        "print(f\"RMSE : {rmse:.2f}\")\n",
        "\n",
        "\n",
        "plt.figure(figsize=(10, 6))\n",
        "plt.scatter(real_prices, predicted_prices, alpha=0.5, label='Prédictions vs Réel')\n",
        "plt.plot([real_prices.min(), real_prices.max()], [real_prices.min(), real_prices.max()], color='red', linestyle='--', label='Idéal')\n",
        "plt.xlabel('Valeurs réelles (SalePrice)')\n",
        "plt.ylabel('Valeurs prédites (SalePrice)')\n",
        "plt.title('Comparaison des valeurs réelles et prédites (Validation)')\n",
        "plt.legend()\n",
        "plt.show()\n"
      ]
    }
  ],
  "metadata": {
    "colab": {
      "provenance": []
    },
    "kernelspec": {
      "display_name": "Python 3",
      "name": "python3"
    },
    "language_info": {
      "name": "python"
    }
  },
  "nbformat": 4,
  "nbformat_minor": 0
}